{
 "cells": [
  {
   "cell_type": "code",
   "execution_count": 3,
   "metadata": {},
   "outputs": [
    {
     "name": "stdout",
     "output_type": "stream",
     "text": [
      "{\"prediction\":\"setosa\"}\n",
      "\n"
     ]
    }
   ],
   "source": [
    "import requests\n",
    "r = requests.post(url=\"http://127.0.0.1:5000/predict\", json= {'sepal_length': 0.1, 'sepal_width': 0.2, 'petal_length': 0.3, 'petal_width': 0.4},timeout=1)\n",
    "\n",
    "print(r.text)"
   ]
  },
  {
   "cell_type": "code",
   "execution_count": 1,
   "metadata": {},
   "outputs": [
    {
     "data": {
      "text/plain": [
       "7.8"
      ]
     },
     "execution_count": 1,
     "metadata": {},
     "output_type": "execute_result"
    }
   ],
   "source": [
    "import random\n",
    "\n",
    "\n",
    "round(random.uniform(4.3,7.9),1)"
   ]
  }
 ],
 "metadata": {
  "kernelspec": {
   "display_name": "base",
   "language": "python",
   "name": "python3"
  },
  "language_info": {
   "codemirror_mode": {
    "name": "ipython",
    "version": 3
   },
   "file_extension": ".py",
   "mimetype": "text/x-python",
   "name": "python",
   "nbconvert_exporter": "python",
   "pygments_lexer": "ipython3",
   "version": "3.9.12"
  },
  "orig_nbformat": 4,
  "vscode": {
   "interpreter": {
    "hash": "5c6a328c3dae7a0c12012862982ee9605db1881d32a9f60b075ff1e1dc4cc909"
   }
  }
 },
 "nbformat": 4,
 "nbformat_minor": 2
}
